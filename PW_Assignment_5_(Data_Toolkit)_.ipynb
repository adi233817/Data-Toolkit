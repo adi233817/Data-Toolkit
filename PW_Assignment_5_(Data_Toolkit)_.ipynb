{
  "nbformat": 4,
  "nbformat_minor": 0,
  "metadata": {
    "colab": {
      "provenance": []
    },
    "kernelspec": {
      "name": "python3",
      "display_name": "Python 3"
    },
    "language_info": {
      "name": "python"
    }
  },
  "cells": [
    {
      "cell_type": "markdown",
      "source": [
        "1 : What is the difference between multithreading and multiprocessing?\n",
        "\n",
        "-   Multithreading\n",
        "\n",
        " 1)  Concept: Runs multiple threads (lightweight processes) inside a single process.\n",
        "\n",
        "2)  Goal: Improve performance for I/O-bound tasks (like file reading, network calls, waiting for APIs).\n",
        "\n",
        "3)  Parallelism: Not true parallelism in Python due to the GIL (Global Interpreter Lock) — only one thread runs Python bytecode at a time.\n",
        "\n",
        "4)  Memory: All threads share the same memory space.\n",
        "\n",
        "    Use Case Examples:\n",
        "\n",
        "Downloading multiple web pages.\n",
        "\n",
        "Reading/writing multiple files.\n",
        "\n",
        "Handling multiple client connections (in servers).\n",
        "\n",
        "\n",
        "\n",
        "-   Multiprocessing\n",
        "\n",
        "1)   Concept: Runs multiple processes, each with its own Python interpreter and memory space.\n",
        "\n",
        "2)  Goal: Achieve true parallelism for CPU-bound tasks (like heavy computation, data processing, ML training).\n",
        "\n",
        "3)  Parallelism: Yes ✅ — each process runs independently and truly in parallel on different CPU cores.\n",
        "\n",
        "4)  Memory: Processes do not share memory (data needs to be passed using pipes or queues).\n",
        "\n",
        "    Use Case Examples:\n",
        "\n",
        "Image/video processing.\n",
        "\n",
        "Data crunching, numerical simulations.\n",
        "\n",
        "Machine learning model training.\n",
        "\n",
        "\n",
        "2 :  What are the challenges associated with memory management in Python?\n",
        "\n",
        " Challenges Associated with Memory Management in Python\n",
        "\n",
        "1. Reference Counting & Garbage Collection\n",
        "\n",
        "-  Python primarily uses reference counting to keep track of objects.\n",
        "\n",
        "-  When the reference count becomes zero, the object is deleted.\n",
        "\n",
        "Challenge:\n",
        "\n",
        "-  Circular references (objects referencing each other) can prevent memory from being freed automatically.\n",
        "\n",
        "Example: Two objects holding references to each other even if not used anymore.\n",
        "\n",
        "2. Global Interpreter Lock (GIL)\n",
        "\n",
        "-   The GIL ensures that only one thread executes Python bytecode at a time.\n",
        "\n",
        "Challenge:\n",
        "\n",
        "-   Limits parallel execution even if multiple threads are used.\n",
        "\n",
        "-   Memory management operations become serialized — this can reduce performance in multithreaded programs.\n",
        "\n",
        "3. Fragmentation of Memory\n",
        "\n",
        "-  Python’s memory allocator (PyMalloc) manages memory in small chunks (called blocks or arenas).\n",
        "\n",
        "Challenge:\n",
        "\n",
        "-  Over time, memory can become fragmented, leading to inefficient memory use and increased RAM consumption.\n",
        "\n",
        "-  Especially visible in long-running applications or large data processing programs.\n",
        "\n",
        "4. Objects Not Released Immediately\n",
        "\n",
        "-  Even after deleting an object using del, memory may not be released right away.\n",
        "\n",
        "Challenge:\n",
        "\n",
        "-  The garbage collector decides when to actually free memory, so there’s less control.\n",
        "\n",
        "-  Memory might appear to be \"leaking\" in long-running apps.\n",
        "\n",
        "5. Large Data Structures\n",
        "\n",
        "-  Lists, dictionaries, and sets can grow large quickly.\n",
        "\n",
        "Challenge:\n",
        "\n",
        "-  These structures hold references to many objects — freeing them can be expensive.\n",
        "\n",
        "-  Deeply nested or shared references can complicate cleanup.\n",
        "\n",
        "6. Third-Party Modules and Extensions\n",
        "\n",
        "-  Some C/C++ extensions or libraries (like NumPy, TensorFlow) manage their own memory.\n",
        "\n",
        "Challenge:\n",
        "\n",
        "-  The Python garbage collector might not track memory used by such extensions.\n",
        "\n",
        "-  Can cause hidden memory leaks if not handled properly.\n",
        "\n",
        "7. Lack of Manual Control\n",
        "\n",
        "-  Unlike C/C++, Python abstracts memory management, which is good for simplicity but bad for fine-tuning.\n",
        "\n",
        "Challenge:\n",
        "\n",
        "-  Developers cannot easily force memory compaction or control allocation behavior.\n",
        "\n"
      ],
      "metadata": {
        "id": "-PmfV98pnTQ2"
      }
    },
    {
      "cell_type": "markdown",
      "source": [
        "3 : Write a Python program that logs an error message to a log file when a\n",
        "division by zero exception occurs."
      ],
      "metadata": {
        "id": "9_wq6A70uorA"
      }
    },
    {
      "cell_type": "code",
      "source": [
        "import logging\n",
        "\n",
        "# Configure logging\n",
        "logging.basicConfig(filename='error.log',\n",
        "                    level=logging.ERROR,\n",
        "                    format='%(asctime)s - %(levelname)s - %(message)s')\n",
        "try:\n",
        "    # Example: Division by zero\n",
        "    num1 = 10\n",
        "    num2 = 0\n",
        "    result = num1 / num2\n",
        "\n",
        "except ZeroDivisionError as e:\n",
        "    logging.error(\"Division by zero error occurred: %s\", e)\n",
        "    print(\"An error occurred! Check 'error.log' for details.\")\n"
      ],
      "metadata": {
        "colab": {
          "base_uri": "https://localhost:8080/"
        },
        "id": "tRMukBbEuzvW",
        "outputId": "d5cf5c46-257f-4bea-9603-1131b75c0148"
      },
      "execution_count": 2,
      "outputs": [
        {
          "output_type": "stream",
          "name": "stderr",
          "text": [
            "ERROR:root:Division by zero error occurred: division by zero\n"
          ]
        },
        {
          "output_type": "stream",
          "name": "stdout",
          "text": [
            "An error occurred! Check 'error.log' for details.\n"
          ]
        }
      ]
    },
    {
      "cell_type": "markdown",
      "source": [
        "4 : Write a Python program that reads from one file and writes its content to another file."
      ],
      "metadata": {
        "id": "rn1STEDsvat2"
      }
    },
    {
      "cell_type": "code",
      "source": [
        "# Read from one file and write to another\n",
        "\n",
        "# Open source file in read mode\n",
        "with open(\"source.txt\", \"r\") as src:\n",
        "    data = src.read()  # Read all content\n",
        "\n",
        "# Open destination file in write mode\n",
        "with open(\"destination.txt\", \"w\") as dest:\n",
        "    dest.write(data)  # Write the content\n",
        "\n",
        "print(\"File copied successfully!\")\n"
      ],
      "metadata": {
        "colab": {
          "base_uri": "https://localhost:8080/"
        },
        "id": "1iv_KHo4yF5K",
        "outputId": "5fb4a7da-3e87-4069-c67f-b9ff243dd2e2"
      },
      "execution_count": 9,
      "outputs": [
        {
          "output_type": "stream",
          "name": "stdout",
          "text": [
            "File copied successfully!\n"
          ]
        }
      ]
    },
    {
      "cell_type": "markdown",
      "source": [
        " 5 : Write a program that handles both IndexError and KeyError using a try-except block.\n",
        "\n",
        "\n"
      ],
      "metadata": {
        "id": "_St_9B0kyWMi"
      }
    },
    {
      "cell_type": "code",
      "source": [
        "# Program to handle IndexError and KeyError\n",
        "\n",
        "try:\n",
        "    # Example 1: IndexError\n",
        "    my_list = [10, 20, 30]\n",
        "    print(my_list[5])  # Invalid index\n",
        "\n",
        "    # Example 2: KeyError\n",
        "    my_dict = {'a': 1, 'b': 2}\n",
        "    print(my_dict['c'])  # Invalid key\n",
        "\n",
        "except IndexError:\n",
        "    print(\"Error: List index out of range!\")\n",
        "\n",
        "except KeyError:\n",
        "    print(\"Error: Key not found in dictionary!\")\n",
        "\n",
        "print(\"Program continues running smoothly...\")\n"
      ],
      "metadata": {
        "colab": {
          "base_uri": "https://localhost:8080/"
        },
        "id": "u6HTtNTeyy0m",
        "outputId": "e223583e-bd1e-499a-8b6a-895616c43ae5"
      },
      "execution_count": 10,
      "outputs": [
        {
          "output_type": "stream",
          "name": "stdout",
          "text": [
            "Error: List index out of range!\n",
            "Program continues running smoothly...\n"
          ]
        }
      ]
    },
    {
      "cell_type": "markdown",
      "source": [
        "6 : What are the differences between NumPy arrays and Python lists?\n",
        "\n",
        "NumPy Arrays:\n",
        "\n",
        "\n",
        "NumPy arrays are data structures provided by the NumPy library that are designed for efficient numerical computation. They store elements of the same data type (homogeneous) and are implemented in C, which makes them much faster and more memory-efficient than Python lists. NumPy arrays support vectorized operations, meaning you can perform mathematical operations on the entire array at once without using loops. They also offer a wide range of built-in mathematical and statistical functions, and they can handle multi-dimensional data such as matrices and tensors easily, making them ideal for data science, machine learning, and scientific computing.\n",
        "\n",
        "\n",
        "\n",
        "Python Lists:\n",
        "\n",
        "\n",
        "Python lists are built-in, flexible data structures that can hold elements of different data types (heterogeneous), such as integers, strings, and floats in the same list. They are easy to use and suitable for general-purpose programming tasks. However, Python lists are slower and consume more memory compared to NumPy arrays because they are implemented in Python and do not support vectorized operations. Mathematical operations on lists require explicit looping or list comprehensions. Lists are best suited for simple data storage and manipulation rather than high-performance numerical computation."
      ],
      "metadata": {
        "id": "gtilwT0Xy5o7"
      }
    },
    {
      "cell_type": "markdown",
      "source": [
        "7: Explain the difference between apply() and map() in Pandas\n",
        "\n",
        "map() in Pandas:\n",
        "\n",
        "-  The map() function is used only with Series (one column).\n",
        "\n",
        "-  It applies a function, dictionary, or mapping to each element in the Series.\n",
        "\n",
        "-  It’s useful for element-wise transformations like converting values, replacing data, or applying simple functions."
      ],
      "metadata": {
        "id": "zlJQEr310YSp"
      }
    },
    {
      "cell_type": "code",
      "source": [
        "import pandas as pd\n",
        "\n",
        "s = pd.Series([1, 2, 3])\n",
        "print(s.map(lambda x: x * 2))   # Output: [2, 4, 6]\n"
      ],
      "metadata": {
        "colab": {
          "base_uri": "https://localhost:8080/"
        },
        "id": "4PJqSMOq1Ini",
        "outputId": "5901c713-b60d-430b-c83c-abf357652532"
      },
      "execution_count": 11,
      "outputs": [
        {
          "output_type": "stream",
          "name": "stdout",
          "text": [
            "0    2\n",
            "1    4\n",
            "2    6\n",
            "dtype: int64\n"
          ]
        }
      ]
    },
    {
      "cell_type": "markdown",
      "source": [
        "apply() in Pandas:\n",
        "\n",
        "-  The apply() function works with both Series and DataFrames.\n",
        "\n",
        "-  It can apply a function to each element (in a Series) or to each row/column (in a DataFrame).\n",
        "\n",
        "-  It’s more powerful and flexible — you can use it for complex operations or custom functions."
      ],
      "metadata": {
        "id": "jjOwBh1e1MOK"
      }
    },
    {
      "cell_type": "code",
      "source": [
        "import pandas as pd\n",
        "\n",
        "df = pd.DataFrame({'A': [1, 2], 'B': [3, 4]})\n",
        "print(df.apply(lambda x: x * 2))\n",
        "# Output:\n",
        "#    A  B\n",
        "# 0  2  6\n",
        "# 1  4  8\n"
      ],
      "metadata": {
        "colab": {
          "base_uri": "https://localhost:8080/"
        },
        "id": "v4nxPfm11YPK",
        "outputId": "4e234d57-aba3-40be-b30d-6b48b34c6e51"
      },
      "execution_count": 12,
      "outputs": [
        {
          "output_type": "stream",
          "name": "stdout",
          "text": [
            "   A  B\n",
            "0  2  6\n",
            "1  4  8\n"
          ]
        }
      ]
    },
    {
      "cell_type": "markdown",
      "source": [
        "8 : Create a histogram using Seaborn to visualize a distribution."
      ],
      "metadata": {
        "id": "1QkwEcgj1e0u"
      }
    },
    {
      "cell_type": "code",
      "source": [
        "import seaborn as sns\n",
        "import matplotlib.pyplot as plt\n",
        "\n",
        "# Sample data\n",
        "data = [12, 15, 13, 17, 19, 21, 12, 14, 18, 16, 20, 15, 17, 19, 22]\n",
        "\n",
        "# Create histogram\n",
        "sns.histplot(data, bins=5, kde=True, color='orange')\n",
        "\n",
        "# Add titles and labels\n",
        "plt.title(\"Histogram of Sample Data\")\n",
        "plt.xlabel(\"Values\")\n",
        "plt.ylabel(\"Frequency\")\n",
        "\n",
        "# Show the plot\n",
        "plt.show()\n"
      ],
      "metadata": {
        "colab": {
          "base_uri": "https://localhost:8080/",
          "height": 472
        },
        "id": "DfVBzKaU1xNv",
        "outputId": "32159fea-6d1f-4b7f-9dff-1e7f2379a82a"
      },
      "execution_count": 17,
      "outputs": [
        {
          "output_type": "display_data",
          "data": {
            "text/plain": [
              "<Figure size 640x480 with 1 Axes>"
            ],
            "image/png": "[encoded data removed]"
          },
          "metadata": {}
        }
      ]
    },
    {
      "cell_type": "markdown",
      "source": [
        "9 : Use Pandas to load a CSV file and display its first 5 rows."
      ],
      "metadata": {
        "id": "tUuiGW6X2OZy"
      }
    },
    {
      "cell_type": "code",
      "source": [
        "import pandas as pd\n",
        "\n",
        "# Define the path to your CSV file\n",
        "file_path = 'your_file_name.csv'  # Replace with the actual path/name of your file\n",
        "\n",
        "# 1. Load the CSV file into a Pandas DataFrame\n",
        "try:\n",
        "    df = pd.read_csv(file_path)\n",
        "\n",
        "    # 2. Display the first 5 rows\n",
        "    print(df.head())\n",
        "\n",
        "except FileNotFoundError:\n",
        "    print(f\"Error: The file '{file_path}' was not found. Please check the file path.\")\n",
        "except pd.errors.EmptyDataError:\n",
        "    print(f\"Error: The file '{file_path}' is empty.\")\n",
        "except Exception as e:\n",
        "    print(f\"An unexpected error occurred: {e}\")"
      ],
      "metadata": {
        "colab": {
          "base_uri": "https://localhost:8080/"
        },
        "id": "dyYQjxxm4EkN",
        "outputId": "c20f0f96-422b-4900-ab98-a993e4f8c991"
      },
      "execution_count": 20,
      "outputs": [
        {
          "output_type": "stream",
          "name": "stdout",
          "text": [
            "Error: The file 'your_file_name.csv' was not found. Please check the file path.\n"
          ]
        }
      ]
    },
    {
      "cell_type": "markdown",
      "source": [
        "10 : Calculate the correlation matrix using Seaborn and visualize it with a heatmap."
      ],
      "metadata": {
        "id": "1lxXgWa14IqO"
      }
    },
    {
      "cell_type": "code",
      "source": [
        "import pandas as pd\n",
        "import seaborn as sns\n",
        "import matplotlib.pyplot as plt\n",
        "\n",
        "# Sample data\n",
        "data = {\n",
        "    'A': [1, 2, 3, 4, 5],\n",
        "    'B': [5, 4, 3, 2, 1],\n",
        "    'C': [2, 3, 4, 5, 6],\n",
        "    'D': [5, 3, 4, 2, 1]\n",
        "}\n",
        "\n",
        "# Create DataFrame\n",
        "df = pd.DataFrame(data)\n",
        "\n",
        "# Calculate correlation matrix\n",
        "corr_matrix = df.corr()\n",
        "\n",
        "# Visualize correlation matrix using heatmap\n",
        "sns.heatmap(corr_matrix, annot=True, cmap='coolwarm', linewidths=0.5)\n",
        "\n",
        "# Add title\n",
        "plt.title(\"Correlation Heatmap\")\n",
        "plt.show()\n"
      ],
      "metadata": {
        "colab": {
          "base_uri": "https://localhost:8080/",
          "height": 452
        },
        "id": "szu-pgU14fVB",
        "outputId": "2a0ae287-30b8-47a4-e5b4-526865a92493"
      },
      "execution_count": 21,
      "outputs": [
        {
          "output_type": "display_data",
          "data": {
            "text/plain": [
              "<Figure size 640x480 with 2 Axes>"
            ],
            "image/png": "[encoded data removed]"
          },
          "metadata": {}
        }
      ]
    }
  ]
}